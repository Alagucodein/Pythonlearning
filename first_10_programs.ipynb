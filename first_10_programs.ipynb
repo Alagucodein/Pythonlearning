{
  "nbformat": 4,
  "nbformat_minor": 0,
  "metadata": {
    "colab": {
      "provenance": [],
      "authorship_tag": "ABX9TyNFCbiqD/TCEeuJ7OrjzzoN",
      "include_colab_link": true
    },
    "kernelspec": {
      "name": "python3",
      "display_name": "Python 3"
    },
    "language_info": {
      "name": "python"
    }
  },
  "cells": [
    {
      "cell_type": "markdown",
      "metadata": {
        "id": "view-in-github",
        "colab_type": "text"
      },
      "source": [
        "<a href=\"https://colab.research.google.com/github/Alagucodein/Pythonlearning/blob/main/first_10_programs.ipynb\" target=\"_parent\"><img src=\"https://colab.research.google.com/assets/colab-badge.svg\" alt=\"Open In Colab\"/></a>"
      ]
    },
    {
      "cell_type": "code",
      "execution_count": null,
      "metadata": {
        "colab": {
          "base_uri": "https://localhost:8080/"
        },
        "id": "eymTA7tmCnq2",
        "outputId": "9cc0a375-f267-4b5d-e9e1-1d47ffb120cf"
      },
      "outputs": [
        {
          "output_type": "stream",
          "name": "stdout",
          "text": [
            "Enter first side: 3.5\n",
            "Enter second side: 3.5\n",
            "Enter third side: 3.5\n",
            "The area of the triangle is  5.304405598179687\n"
          ]
        }
      ],
      "source": [
        "a = float(input('Enter first side: '))\n",
        "b = float(input('Enter second side: '))\n",
        "c = float(input('Enter third side: '))\n",
        "# calculate the semi-perimeter\n",
        "s = (a + b + c) / 2\n",
        "# calculate the area\n",
        "area = (s*(s-a)*(s-b)*(s-c)) ** 0.5\n",
        "print('The area of the triangle is ', area)"
      ]
    },
    {
      "cell_type": "code",
      "source": [
        "str1=\"python\"\n",
        "str2=\"programming\"\n",
        "print (\"String 1:\",str1)\n",
        "print (\"String 2:\",str2)\n",
        "str=str1+' '+str2\n",
        "print(\"Concatenated two different strings:\",str)"
      ],
      "metadata": {
        "colab": {
          "base_uri": "https://localhost:8080/"
        },
        "id": "arRXOiEUDB_O",
        "outputId": "329ea10e-10bb-48c1-cdf3-4bc3dbd3e588"
      },
      "execution_count": null,
      "outputs": [
        {
          "output_type": "stream",
          "name": "stdout",
          "text": [
            "String 1: python\n",
            "String 2: programming\n",
            "Concatenated two different strings: python programming\n"
          ]
        }
      ]
    },
    {
      "cell_type": "code",
      "source": [
        "# take three numbers from user\n",
        "num1 = float(input(\"Enter first number: \"))\n",
        "num2 = float(input(\"Enter second number: \"))\n",
        "num3 = float(input(\"Enter third number: \"))\n",
        "if (num1 >= num2) and (num1 >= num3):\n",
        " largest = num1\n",
        "elif (num2 >= num1) and (num2 >= num3):\n",
        " largest = num2\n",
        "else:\n",
        " largest = num3\n",
        "print(\"The largest number is\", largest)"
      ],
      "metadata": {
        "colab": {
          "base_uri": "https://localhost:8080/"
        },
        "id": "5ULfwFfRDiOO",
        "outputId": "68614352-c9a7-4ffb-ab6d-5009dc124c48"
      },
      "execution_count": null,
      "outputs": [
        {
          "output_type": "stream",
          "name": "stdout",
          "text": [
            "Enter first number: 56\n",
            "Enter second number: 65\n",
            "Enter third number: 45\n",
            "The largest number is 65.0\n"
          ]
        }
      ]
    },
    {
      "cell_type": "code",
      "source": [
        "# To take input from the user\n",
        "num = int(input(\"Enter a number: \"))\n",
        "# define a flag variable\n",
        "flag = False\n",
        "if num == 1:\n",
        " print(num, \"is not a prime number\")\n",
        "elif num > 1:\n",
        " # check for factors\n",
        "  for i in range(2, num):\n",
        "    if (num % i) == 0:\n",
        " # if factor is found, set flag to True\n",
        "      flag = True\n",
        " # break out of loop\n",
        "      break\n",
        " # check if flag is True\n",
        "  if flag:\n",
        "    print(num, \"is not a prime number\")\n",
        "  else:\n",
        "    print(num, \"is a prime number\")"
      ],
      "metadata": {
        "id": "u3IoT7vbDzK2",
        "colab": {
          "base_uri": "https://localhost:8080/"
        },
        "outputId": "dd6f86a2-1c3f-4ae9-da8a-74a2cc4400cb"
      },
      "execution_count": null,
      "outputs": [
        {
          "output_type": "stream",
          "name": "stdout",
          "text": [
            "Enter a number: 25\n",
            "25 is not a prime number\n"
          ]
        }
      ]
    },
    {
      "cell_type": "code",
      "source": [
        "# To take input from the user\n",
        "num = int(input(\"Enter a number: \"))\n",
        "factorial = 1\n",
        "# check if the number is negative, positive or zero\n",
        "if num < 0:\n",
        " print(\"Sorry, factorial does not exist for negative numbers\")\n",
        "elif num == 0:\n",
        " print(\"The factorial of 0 is 1\")\n",
        "else:\n",
        " for i in range(1,num + 1):\n",
        "  factorial = factorial*i\n",
        "  print(\"The factorial of\",num,\"is\",factorial)"
      ],
      "metadata": {
        "colab": {
          "base_uri": "https://localhost:8080/"
        },
        "id": "0LaK-8eGycyZ",
        "outputId": "48488dd2-462a-48fb-c7b9-1d639ab3c122"
      },
      "execution_count": null,
      "outputs": [
        {
          "output_type": "stream",
          "name": "stdout",
          "text": [
            "Enter a number: 56\n",
            "The factorial of 56 is 1\n",
            "The factorial of 56 is 2\n",
            "The factorial of 56 is 6\n",
            "The factorial of 56 is 24\n",
            "The factorial of 56 is 120\n",
            "The factorial of 56 is 720\n",
            "The factorial of 56 is 5040\n",
            "The factorial of 56 is 40320\n",
            "The factorial of 56 is 362880\n",
            "The factorial of 56 is 3628800\n",
            "The factorial of 56 is 39916800\n",
            "The factorial of 56 is 479001600\n",
            "The factorial of 56 is 6227020800\n",
            "The factorial of 56 is 87178291200\n",
            "The factorial of 56 is 1307674368000\n",
            "The factorial of 56 is 20922789888000\n",
            "The factorial of 56 is 355687428096000\n",
            "The factorial of 56 is 6402373705728000\n",
            "The factorial of 56 is 121645100408832000\n",
            "The factorial of 56 is 2432902008176640000\n",
            "The factorial of 56 is 51090942171709440000\n",
            "The factorial of 56 is 1124000727777607680000\n",
            "The factorial of 56 is 25852016738884976640000\n",
            "The factorial of 56 is 620448401733239439360000\n",
            "The factorial of 56 is 15511210043330985984000000\n",
            "The factorial of 56 is 403291461126605635584000000\n",
            "The factorial of 56 is 10888869450418352160768000000\n",
            "The factorial of 56 is 304888344611713860501504000000\n",
            "The factorial of 56 is 8841761993739701954543616000000\n",
            "The factorial of 56 is 265252859812191058636308480000000\n",
            "The factorial of 56 is 8222838654177922817725562880000000\n",
            "The factorial of 56 is 263130836933693530167218012160000000\n",
            "The factorial of 56 is 8683317618811886495518194401280000000\n",
            "The factorial of 56 is 295232799039604140847618609643520000000\n",
            "The factorial of 56 is 10333147966386144929666651337523200000000\n",
            "The factorial of 56 is 371993326789901217467999448150835200000000\n",
            "The factorial of 56 is 13763753091226345046315979581580902400000000\n",
            "The factorial of 56 is 523022617466601111760007224100074291200000000\n",
            "The factorial of 56 is 20397882081197443358640281739902897356800000000\n",
            "The factorial of 56 is 815915283247897734345611269596115894272000000000\n",
            "The factorial of 56 is 33452526613163807108170062053440751665152000000000\n",
            "The factorial of 56 is 1405006117752879898543142606244511569936384000000000\n",
            "The factorial of 56 is 60415263063373835637355132068513997507264512000000000\n",
            "The factorial of 56 is 2658271574788448768043625811014615890319638528000000000\n",
            "The factorial of 56 is 119622220865480194561963161495657715064383733760000000000\n",
            "The factorial of 56 is 5502622159812088949850305428800254892961651752960000000000\n",
            "The factorial of 56 is 258623241511168180642964355153611979969197632389120000000000\n",
            "The factorial of 56 is 12413915592536072670862289047373375038521486354677760000000000\n",
            "The factorial of 56 is 608281864034267560872252163321295376887552831379210240000000000\n",
            "The factorial of 56 is 30414093201713378043612608166064768844377641568960512000000000000\n",
            "The factorial of 56 is 1551118753287382280224243016469303211063259720016986112000000000000\n",
            "The factorial of 56 is 80658175170943878571660636856403766975289505440883277824000000000000\n",
            "The factorial of 56 is 4274883284060025564298013753389399649690343788366813724672000000000000\n",
            "The factorial of 56 is 230843697339241380472092742683027581083278564571807941132288000000000000\n",
            "The factorial of 56 is 12696403353658275925965100847566516959580321051449436762275840000000000000\n",
            "The factorial of 56 is 710998587804863451854045647463724949736497978881168458687447040000000000000\n"
          ]
        }
      ]
    },
    {
      "cell_type": "code",
      "source": [
        "num = float(input(\"Enter a number: \"))\n",
        "if num > 0:\n",
        " print(\"Positive number\")\n",
        "elif num == 0:\n",
        " print(\"Zero\")\n",
        "else:\n",
        " print(\"Negative number\")"
      ],
      "metadata": {
        "id": "WOCXDAsFy73b",
        "colab": {
          "base_uri": "https://localhost:8080/"
        },
        "outputId": "bafa1385-dd75-4682-db74-c7a6aa9982ff"
      },
      "execution_count": null,
      "outputs": [
        {
          "output_type": "stream",
          "name": "stdout",
          "text": [
            "Enter a number: 0\n",
            "Zero\n"
          ]
        }
      ]
    },
    {
      "cell_type": "code",
      "source": [
        "# To take input from the user\n",
        "num = int(input(\"Display multiplication table of? \"))\n",
        "# Iterate 10 times from i = 1 to 10\n",
        "for i in range(1, 11):\n",
        " print(num, 'x', i, '=', num*i)"
      ],
      "metadata": {
        "colab": {
          "base_uri": "https://localhost:8080/"
        },
        "id": "b1SiSHQObvID",
        "outputId": "3e9b73c0-4780-4cc0-bb2c-68e5eb7b7d48"
      },
      "execution_count": null,
      "outputs": [
        {
          "output_type": "stream",
          "name": "stdout",
          "text": [
            "Display multiplication table of? 2\n",
            "2 x 1 = 2\n",
            "2 x 2 = 4\n",
            "2 x 3 = 6\n",
            "2 x 4 = 8\n",
            "2 x 5 = 10\n",
            "2 x 6 = 12\n",
            "2 x 7 = 14\n",
            "2 x 8 = 16\n",
            "2 x 9 = 18\n",
            "2 x 10 = 20\n"
          ]
        }
      ]
    },
    {
      "cell_type": "code",
      "source": [
        "# To get year (integer input) from the user\n",
        "year = int(input(\"Enter a year: \"))\n",
        "# divided by 100 means century year (ending with 00)\n",
        "# century year divided by 400 is leap year\n",
        "if (year % 400 == 0) and (year % 100 == 0):\n",
        " print(year,\"is a leap year\")\n",
        "# not divided by 100 means not a century year\n",
        "# year divided by 4 is a leap year\n",
        "elif (year % 4 ==0) and (year % 100 != 0):\n",
        " print(year,\"is a leap year\")\n",
        "# if not divided by both 400 (century year) and 4 (not century year)\n",
        "# year is not leap year\n",
        "else:\n",
        " print(year,\"is not a leap year\")"
      ],
      "metadata": {
        "colab": {
          "base_uri": "https://localhost:8080/"
        },
        "id": "Qoy1mXcfcEQi",
        "outputId": "99243340-a250-4cee-c36d-98c390bce06f"
      },
      "execution_count": null,
      "outputs": [
        {
          "output_type": "stream",
          "name": "stdout",
          "text": [
            "Enter a year: 2021\n",
            "2021 is not a leap year\n"
          ]
        }
      ]
    },
    {
      "cell_type": "code",
      "source": [
        "from datetime import date\n",
        "# today() to get current date\n",
        "todays_date = date.today()\n",
        "print(\"Today's date =\", todays_date)"
      ],
      "metadata": {
        "colab": {
          "base_uri": "https://localhost:8080/"
        },
        "id": "eUKPMLpvdGlb",
        "outputId": "3e56e525-719b-4275-dc1b-fb27bf6694e5"
      },
      "execution_count": null,
      "outputs": [
        {
          "output_type": "stream",
          "name": "stdout",
          "text": [
            "Today's date = 2024-11-29\n"
          ]
        }
      ]
    },
    {
      "cell_type": "code",
      "source": [
        "# define a function\n",
        "def compute_hcf(x, y):\n",
        "# choose the smaller number\n",
        " if x > y:\n",
        "  smaller = y\n",
        " else:\n",
        "  smaller = x\n",
        " for i in range(1, smaller+1):\n",
        "  if((x % i == 0) and (y % i == 0)):\n",
        "    hcf = i\n",
        " return hcf\n",
        "num1 = int(input(\"Enter first number\"))\n",
        "num2 = int(input(\"Enter first number\"))\n",
        "print(\"The H.C.F. is\", compute_hcf(num1, num2))"
      ],
      "metadata": {
        "colab": {
          "base_uri": "https://localhost:8080/"
        },
        "id": "YUgr3DUldPk6",
        "outputId": "b378d37c-6c47-4115-ec3c-6e47e5cdca78"
      },
      "execution_count": null,
      "outputs": [
        {
          "output_type": "stream",
          "name": "stdout",
          "text": [
            "Enter first number22\n",
            "Enter first number2\n",
            "The H.C.F. is 2\n"
          ]
        }
      ]
    },
    {
      "cell_type": "code",
      "source": [
        "def compute_lcm(x, y):\n",
        " # choose the greater number\n",
        " if x > y:\n",
        "  greater = x\n",
        " else:\n",
        "  greater = y\n",
        " while(True):\n",
        "  if((greater % x == 0) and (greater % y == 0)):\n",
        "    lcm = greater\n",
        "    return lcm\n",
        "  break\n",
        "  greater += 1\n",
        "num1 = int(input(\"Enter first number\"))\n",
        "num2 = int(input(\"Enter second number\"))\n",
        "print(\"The L.C.M. is\", compute_lcm(num1, num2))\n"
      ],
      "metadata": {
        "colab": {
          "base_uri": "https://localhost:8080/"
        },
        "id": "K3r61zfdeXLT",
        "outputId": "0606a58f-b057-4fcd-858e-1f73d4ce7be9"
      },
      "execution_count": null,
      "outputs": [
        {
          "output_type": "stream",
          "name": "stdout",
          "text": [
            "Enter first number24\n",
            "Enter second number6\n",
            "The L.C.M. is 24\n"
          ]
        }
      ]
    },
    {
      "cell_type": "code",
      "source": [
        "def find_square(num):\n",
        " result = num * num\n",
        " return result\n",
        "# function call\n",
        "square = find_square(9)\n",
        "print('Square:',square)"
      ],
      "metadata": {
        "colab": {
          "base_uri": "https://localhost:8080/"
        },
        "id": "RO7DQpDii_29",
        "outputId": "3e91c15b-9fe7-4526-8fc1-4b5083ace68f"
      },
      "execution_count": null,
      "outputs": [
        {
          "output_type": "stream",
          "name": "stdout",
          "text": [
            "Square: 81\n"
          ]
        }
      ]
    },
    {
      "cell_type": "code",
      "source": [
        "# change this value for a different result\n",
        "celsius = float(input(\"Enter the celsius \"))\n",
        "# calculate fahrenheit\n",
        "fahrenheit = (celsius * 1.8) + 32\n",
        "print('%0.1f degree Celsius is equal to %0.1f degree Fahrenheit' %(celsius,fahrenheit))\n"
      ],
      "metadata": {
        "colab": {
          "base_uri": "https://localhost:8080/"
        },
        "id": "lIyn4mvBjNyM",
        "outputId": "c3aad487-e357-4282-83dc-362f5f7fa025"
      },
      "execution_count": null,
      "outputs": [
        {
          "output_type": "stream",
          "name": "stdout",
          "text": [
            "Enter the celsius 24\n",
            "24.0 degree Celsius is equal to 75.2 degree Fahrenheit\n"
          ]
        }
      ]
    },
    {
      "cell_type": "code",
      "source": [
        "# Taking kilometers input from the user\n",
        "kilometers = float(input(\"Enter value in kilometers: \"))\n",
        "# conversion factor\n",
        "conv_fac = 0.621371\n",
        "# calculate miles\n",
        "miles = kilometers * conv_fac\n",
        "print('%0.2f kilometers is equal to %0.2f miles'\n",
        "%(kilometers,miles))"
      ],
      "metadata": {
        "colab": {
          "base_uri": "https://localhost:8080/"
        },
        "id": "gOLo3__4jcPt",
        "outputId": "5918d0ec-ace4-4b0b-8b5f-f486e9b8d383"
      },
      "execution_count": null,
      "outputs": [
        {
          "output_type": "stream",
          "name": "stdout",
          "text": [
            "Enter value in kilometers: 350\n",
            "350.00 kilometers is equal to 217.48 miles\n"
          ]
        }
      ]
    },
    {
      "cell_type": "code",
      "source": [
        "x = 5\n",
        "y = 10\n",
        "x, y = y, x\n",
        "print(\"x =\", x)\n",
        "print(\"y =\", y)"
      ],
      "metadata": {
        "colab": {
          "base_uri": "https://localhost:8080/"
        },
        "id": "v1Mr0h3WjpE9",
        "outputId": "bd303b52-d665-4eac-cea4-4a83630d418c"
      },
      "execution_count": null,
      "outputs": [
        {
          "output_type": "stream",
          "name": "stdout",
          "text": [
            "x = 10\n",
            "y = 5\n"
          ]
        }
      ]
    },
    {
      "cell_type": "code",
      "source": [
        "# take input from the user\n",
        "num = int(input(\"Enter a number: \"))\n",
        "# initialize sum\n",
        "sum = 0\n",
        "# find the sum of the cube of each digit\n",
        "temp = num\n",
        "while temp > 0:\n",
        " digit = temp % 10\n",
        " sum += digit ** 3\n",
        " temp //= 10\n",
        "# display the result\n",
        "if num == sum:\n",
        " print(num,\"is an Armstrong number\")\n",
        "else:\n",
        " print(num,\"is not an Armstrong number\")"
      ],
      "metadata": {
        "colab": {
          "base_uri": "https://localhost:8080/"
        },
        "id": "Ng2NMLrSj4k1",
        "outputId": "d599aaeb-3e88-4dec-a30d-852ece900eca"
      },
      "execution_count": null,
      "outputs": [
        {
          "output_type": "stream",
          "name": "stdout",
          "text": [
            "Enter a number: 256\n",
            "256 is not an Armstrong number\n"
          ]
        }
      ]
    },
    {
      "cell_type": "code",
      "source": [
        "# interest for given values.\n",
        "def compound_interest(principal, rate, time):\n",
        "# Calculates compound interest\n",
        "  Amount = principal * (pow((1 + rate / 100), time))\n",
        "  CI = Amount - principal\n",
        "  print(\"Compound interest is\", CI)\n",
        "compound_interest(10000, 10.25, 5)"
      ],
      "metadata": {
        "colab": {
          "base_uri": "https://localhost:8080/"
        },
        "id": "I43PojB3k7Nt",
        "outputId": "1a081a36-3c30-4c6f-c199-d3f24e3dde76"
      },
      "execution_count": null,
      "outputs": [
        {
          "output_type": "stream",
          "name": "stdout",
          "text": [
            "Compound interest is 6288.946267774416\n"
          ]
        }
      ]
    },
    {
      "cell_type": "code",
      "source": [
        "lst=[ 1, 6, 3, 5, 3, 4 ]\n",
        "#checking if element 7 is present\n",
        "# in the given list or not\n",
        "i=3\n",
        "# if element present then return\n",
        "# exist otherwise not exist\n",
        "if i in lst:\n",
        " print(\"exist\")\n",
        "else:\n",
        " print(\"not exist\")"
      ],
      "metadata": {
        "colab": {
          "base_uri": "https://localhost:8080/"
        },
        "id": "MegqsMd1lRft",
        "outputId": "fd264860-c6b6-46fc-b937-a73b46b0dfaa"
      },
      "execution_count": null,
      "outputs": [
        {
          "output_type": "stream",
          "name": "stdout",
          "text": [
            "exist\n"
          ]
        }
      ]
    },
    {
      "cell_type": "code",
      "source": [
        "def Reverse(lst):\n",
        " new_lst = lst[::-1]\n",
        " return new_lst\n",
        "lst = [10, 11, 12, 13, 14, 15]\n",
        "print(Reverse(lst))"
      ],
      "metadata": {
        "colab": {
          "base_uri": "https://localhost:8080/"
        },
        "id": "HMTgoq73lbM2",
        "outputId": "39b0a9b8-d546-4905-87d9-5349228cb7cd"
      },
      "execution_count": null,
      "outputs": [
        {
          "output_type": "stream",
          "name": "stdout",
          "text": [
            "[15, 14, 13, 12, 11, 10]\n"
          ]
        }
      ]
    },
    {
      "cell_type": "code",
      "source": [
        "marks = {'Physics':67, 'Maths':87}\n",
        "int_marks = {'Practical':48}\n",
        "marks.update(int_marks)\n",
        "print(marks)"
      ],
      "metadata": {
        "colab": {
          "base_uri": "https://localhost:8080/"
        },
        "id": "OtWz7bYJlxhV",
        "outputId": "f25f8171-be6f-4791-ea27-e637c09f1a16"
      },
      "execution_count": null,
      "outputs": [
        {
          "output_type": "stream",
          "name": "stdout",
          "text": [
            "{'Physics': 67, 'Maths': 87, 'Practical': 48}\n"
          ]
        }
      ]
    },
    {
      "cell_type": "code",
      "source": [
        "def isPalindrome(string):\n",
        "  if(string== string[::-1]):\n",
        "    return \"The string is a palindrome.\"\n",
        "  else:\n",
        "    return \"The string is not a palindrome.\"\n",
        "#Enter input string\n",
        "string=input(\"Enter string:\")\n",
        "print(isPalindrome(string))"
      ],
      "metadata": {
        "colab": {
          "base_uri": "https://localhost:8080/"
        },
        "id": "-FET8r_NmFJl",
        "outputId": "328c80a0-cc44-42f3-a371-7e53e169df7f"
      },
      "execution_count": null,
      "outputs": [
        {
          "output_type": "stream",
          "name": "stdout",
          "text": [
            "Enter string:madam\n",
            "The string is a palindrome.\n"
          ]
        }
      ]
    }
  ]
}