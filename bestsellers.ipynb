{
  "nbformat": 4,
  "nbformat_minor": 0,
  "metadata": {
    "colab": {
      "provenance": [],
      "authorship_tag": "ABX9TyMqO7+WlIOhW64ttRvtKTQq",
      "include_colab_link": true
    },
    "kernelspec": {
      "name": "python3",
      "display_name": "Python 3"
    },
    "language_info": {
      "name": "python"
    }
  },
  "cells": [
    {
      "cell_type": "markdown",
      "metadata": {
        "id": "view-in-github",
        "colab_type": "text"
      },
      "source": [
        "<a href=\"https://colab.research.google.com/github/Alagucodein/Pythonlearning/blob/main/bestsellers.ipynb\" target=\"_parent\"><img src=\"https://colab.research.google.com/assets/colab-badge.svg\" alt=\"Open In Colab\"/></a>"
      ]
    },
    {
      "cell_type": "code",
      "execution_count": null,
      "metadata": {
        "id": "R3bSGKVhtkjy"
      },
      "outputs": [],
      "source": [
        "# Import modules\n",
        "import matplotlib.pyplot as mp\n",
        "import pandas as pd\n",
        "import seaborn as sb\n",
        "\n",
        "# Import file with data\n",
        "data = pd.read_csv(\"C:\\\\Users\\\\Vanshi\\\\Desktop\\\\bestsellers.csv\")\n",
        "\n",
        "# Print data that will be plotted\n",
        "# Columns shown here are selected by corr() since\n",
        "# they are ideal for the plot\n",
        "print(data.corr(numeric_only=True))\n",
        "\n",
        "# Plotting correlation heatmap\n",
        "dataplot = sb.heatmap(data.corr(numeric_only=True), cmap=\"YlGnBu\", annot=True)\n",
        "\n",
        "# Displaying heatmap\n",
        "mp.show()"
      ]
    }
  ]
}